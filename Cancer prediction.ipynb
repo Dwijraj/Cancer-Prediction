{
 "cells": [
  {
   "cell_type": "code",
   "execution_count": 1,
   "metadata": {},
   "outputs": [],
   "source": [
    "import pandas as pd\n",
    "import numpy as np"
   ]
  },
  {
   "cell_type": "code",
   "execution_count": 2,
   "metadata": {},
   "outputs": [],
   "source": [
    "#header=['slno','id','diagnosis','radius_mean','texture_mean','perimeter_mean','area_mean','smoothness_mean',]\n",
    "Dataframe=pd.read_csv('data.csv')\n",
    "Data=Dataframe.as_matrix()"
   ]
  },
  {
   "cell_type": "code",
   "execution_count": 3,
   "metadata": {},
   "outputs": [
    {
     "name": "stdout",
     "output_type": "stream",
     "text": [
      "357\n",
      "212\n"
     ]
    }
   ],
   "source": [
    "total_size=len(Data[0])\n",
    "Benign=[]\n",
    "Benign_label=[]\n",
    "Malignant=[]\n",
    "Malignant_label=[]\n",
    "for d in Data:\n",
    "    d=d[1:total_size-1]\n",
    "    if(d[0]=='M'):\n",
    "        Malignant.append(d[1:])\n",
    "        Malignant_label.append(1)\n",
    "    elif(d[0]=='B'):\n",
    "        Benign.append(d[1:])\n",
    "        Benign_label.append(0)\n",
    "print(len(Benign))\n",
    "print(len(Malignant))"
   ]
  },
  {
   "cell_type": "code",
   "execution_count": 9,
   "metadata": {},
   "outputs": [
    {
     "name": "stdout",
     "output_type": "stream",
     "text": [
      "[[ 0.78372526 -0.89102379  0.79591911  0.77189147  0.39564021  0.03576508\n",
      "   0.47445318  1.39065367  0.57783026 -0.77285292 -0.12616423 -0.73387814\n",
      "   0.07489882  0.27458162  0.41425571 -0.41878967 -0.06469728  0.57754159\n",
      "  -0.11215296 -0.45535287  0.87446028 -0.77558743  0.93973479  0.93223098\n",
      "   0.95271996 -0.05836505  0.51909648  1.52055691  0.65858779 -0.49707819]\n",
      " [ 0.52500995 -0.55263766  0.64071453  0.42662393  1.11879744  1.39203815\n",
      "  -0.0087047   0.33881598  0.90884928  0.77807861 -0.8796436  -0.80339411\n",
      "  -0.80162395 -0.73209055 -1.0139324  -0.15054857 -0.27429752 -0.59075161\n",
      "  -0.54427725 -0.41275038  0.56616001 -0.55139076  0.67248836  0.43826668\n",
      "   0.31225291  1.03125085  0.16238934 -0.04516002  1.1551543   0.17323028]\n",
      " [-1.48622034 -1.37228406 -1.50416192 -1.40858861  0.73897233 -0.44995336\n",
      "  -0.38029368 -0.31205186  0.29525304  0.91758824 -0.06033486 -0.41400267\n",
      "  -0.11858547 -0.615457    0.78856205 -0.4359375  -0.18698944  0.76348615\n",
      "  -0.04490182 -0.22768517 -1.59194182 -1.43177281 -1.61946435 -1.49351937\n",
      "   0.3722967  -0.73733808 -0.55337921 -0.34056776 -0.60561774 -0.12420097]]\n"
     ]
    },
    {
     "name": "stderr",
     "output_type": "stream",
     "text": [
      "c:\\users\\dwijraj\\appdata\\local\\programs\\python\\python36\\lib\\site-packages\\sklearn\\utils\\validation.py:444: DataConversionWarning: Data with input dtype object was converted to float64 by the scale function.\n",
      "  warnings.warn(msg, DataConversionWarning)\n"
     ]
    }
   ],
   "source": [
    "from sklearn import preprocessing\n",
    "import numpy as np\n",
    "\n",
    "Benign=np.array(Benign)\n",
    "Malignant=np.array(Malignant)\n",
    "\n",
    "Benign=preprocessing.scale(Benign)\n",
    "Malignant=preprocessing.scale(Malignant)\n",
    "\n",
    "print(Benign[:3])"
   ]
  },
  {
   "cell_type": "code",
   "execution_count": null,
   "metadata": {},
   "outputs": [],
   "source": []
  },
  {
   "cell_type": "code",
   "execution_count": null,
   "metadata": {},
   "outputs": [],
   "source": []
  },
  {
   "cell_type": "code",
   "execution_count": 27,
   "metadata": {},
   "outputs": [],
   "source": [
    "ts=150\n",
    "training_data=np.array(Benign[:ts]+Malignant[:ts])\n",
    "training_labels=np.array(Benign_label[:ts]+Malignant_label[:ts])\n",
    "testing_data=np.array(Benign[ts:]+Malignant[ts:])\n",
    "testing_labels=np.array(Benign_label[ts:]+Malignant_label[ts:])"
   ]
  },
  {
   "cell_type": "code",
   "execution_count": 28,
   "metadata": {},
   "outputs": [
    {
     "name": "stdout",
     "output_type": "stream",
     "text": [
      "(300, 30)\n",
      "(300,)\n"
     ]
    }
   ],
   "source": [
    "print(training_data.shape)\n",
    "print(training_labels.shape)"
   ]
  },
  {
   "cell_type": "code",
   "execution_count": 29,
   "metadata": {},
   "outputs": [
    {
     "data": {
      "text/plain": [
       "SVC(C=1.0, cache_size=200, class_weight=None, coef0=0.0,\n",
       "  decision_function_shape='ovr', degree=3, gamma='auto', kernel='rbf',\n",
       "  max_iter=-1, probability=False, random_state=None, shrinking=True,\n",
       "  tol=0.001, verbose=False)"
      ]
     },
     "execution_count": 29,
     "metadata": {},
     "output_type": "execute_result"
    }
   ],
   "source": [
    "from sklearn.svm import SVC\n",
    "clf = SVC()\n",
    "clf.fit(training_data, training_labels)"
   ]
  },
  {
   "cell_type": "code",
   "execution_count": 33,
   "metadata": {},
   "outputs": [
    {
     "name": "stdout",
     "output_type": "stream",
     "text": [
      "Training Accuracy1.0\n",
      "Testing Accuracy0.42033898305084744\n"
     ]
    }
   ],
   "source": [
    "from sklearn.metrics import f1_score\n",
    "print('Training Accuracy'+str(f1_score(training_labels,clf.predict(training_data))))\n",
    "print('Testing Accuracy'+str(f1_score(testing_labels,clf.predict(testing_data))))"
   ]
  },
  {
   "cell_type": "code",
   "execution_count": null,
   "metadata": {},
   "outputs": [],
   "source": []
  }
 ],
 "metadata": {
  "kernelspec": {
   "display_name": "Python 3",
   "language": "python",
   "name": "python3"
  },
  "language_info": {
   "codemirror_mode": {
    "name": "ipython",
    "version": 3
   },
   "file_extension": ".py",
   "mimetype": "text/x-python",
   "name": "python",
   "nbconvert_exporter": "python",
   "pygments_lexer": "ipython3",
   "version": "3.6.1"
  }
 },
 "nbformat": 4,
 "nbformat_minor": 2
}
