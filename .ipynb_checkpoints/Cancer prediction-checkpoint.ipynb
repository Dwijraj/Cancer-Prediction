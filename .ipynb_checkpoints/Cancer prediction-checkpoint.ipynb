{
 "cells": [
  {
   "cell_type": "code",
   "execution_count": 1,
   "metadata": {},
   "outputs": [],
   "source": [
    "import pandas as pd\n",
    "import numpy as np"
   ]
  },
  {
   "cell_type": "code",
   "execution_count": 14,
   "metadata": {},
   "outputs": [],
   "source": [
    "#header=['slno','id','diagnosis','radius_mean','texture_mean','perimeter_mean','area_mean','smoothness_mean',]\n",
    "Dataframe=pd.read_csv('data.csv')\n",
    "Data=Dataframe.as_matrix()"
   ]
  },
  {
   "cell_type": "code",
   "execution_count": 26,
   "metadata": {},
   "outputs": [
    {
     "name": "stdout",
     "output_type": "stream",
     "text": [
      "357\n",
      "212\n"
     ]
    }
   ],
   "source": [
    "total_size=len(Data[0])\n",
    "Benign=[]\n",
    "Benign_label=[]\n",
    "Malignant=[]\n",
    "Malignant_label=[]\n",
    "for d in Data:\n",
    "    d=d[1:total_size-1]\n",
    "    if(d[0]=='M'):\n",
    "        Malignant.append(d[1:])\n",
    "        Malignant_label.append(1)\n",
    "    elif(d[0]=='B'):\n",
    "        Benign.append(d[1:])\n",
    "        Benign_label.append(0)\n",
    "print(len(Benign))\n",
    "print(len(Malignant))"
   ]
  },
  {
   "cell_type": "code",
   "execution_count": 27,
   "metadata": {},
   "outputs": [],
   "source": [
    "ts=150\n",
    "training_data=np.array(Benign[:ts]+Malignant[:ts])\n",
    "training_labels=np.array(Benign_label[:ts]+Malignant_label[:ts])\n",
    "testing_data=np.array(Benign[ts:]+Malignant[ts:])\n",
    "testing_labels=np.array(Benign_label[ts:]+Malignant_label[ts:])"
   ]
  },
  {
   "cell_type": "code",
   "execution_count": 28,
   "metadata": {},
   "outputs": [
    {
     "name": "stdout",
     "output_type": "stream",
     "text": [
      "(300, 30)\n",
      "(300,)\n"
     ]
    }
   ],
   "source": [
    "print(training_data.shape)\n",
    "print(training_labels.shape)"
   ]
  },
  {
   "cell_type": "code",
   "execution_count": 29,
   "metadata": {},
   "outputs": [
    {
     "data": {
      "text/plain": [
       "SVC(C=1.0, cache_size=200, class_weight=None, coef0=0.0,\n",
       "  decision_function_shape='ovr', degree=3, gamma='auto', kernel='rbf',\n",
       "  max_iter=-1, probability=False, random_state=None, shrinking=True,\n",
       "  tol=0.001, verbose=False)"
      ]
     },
     "execution_count": 29,
     "metadata": {},
     "output_type": "execute_result"
    }
   ],
   "source": [
    "from sklearn.svm import SVC\n",
    "clf = SVC()\n",
    "clf.fit(training_data, training_labels)"
   ]
  },
  {
   "cell_type": "code",
   "execution_count": 33,
   "metadata": {},
   "outputs": [
    {
     "name": "stdout",
     "output_type": "stream",
     "text": [
      "Training Accuracy1.0\n",
      "Testing Accuracy0.42033898305084744\n"
     ]
    }
   ],
   "source": [
    "from sklearn.metrics import f1_score\n",
    "print('Training Accuracy'+str(f1_score(training_labels,clf.predict(training_data))))\n",
    "print('Testing Accuracy'+str(f1_score(testing_labels,clf.predict(testing_data))))"
   ]
  },
  {
   "cell_type": "code",
   "execution_count": null,
   "metadata": {},
   "outputs": [],
   "source": []
  }
 ],
 "metadata": {
  "kernelspec": {
   "display_name": "Python 3",
   "language": "python",
   "name": "python3"
  },
  "language_info": {
   "codemirror_mode": {
    "name": "ipython",
    "version": 3
   },
   "file_extension": ".py",
   "mimetype": "text/x-python",
   "name": "python",
   "nbconvert_exporter": "python",
   "pygments_lexer": "ipython3",
   "version": "3.6.1"
  }
 },
 "nbformat": 4,
 "nbformat_minor": 2
}
