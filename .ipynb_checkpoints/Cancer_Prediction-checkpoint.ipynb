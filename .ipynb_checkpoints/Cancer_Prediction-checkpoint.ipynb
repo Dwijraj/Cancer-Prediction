{
 "cells": [
  {
   "cell_type": "markdown",
   "metadata": {},
   "source": [
    "## Preprocessing data from CSV file"
   ]
  },
  {
   "cell_type": "code",
   "execution_count": 1,
   "metadata": {},
   "outputs": [],
   "source": [
    "import pandas as pd\n",
    "import numpy as np"
   ]
  },
  {
   "cell_type": "code",
   "execution_count": 2,
   "metadata": {},
   "outputs": [],
   "source": [
    "Dataframe=pd.read_csv('data.csv')\n",
    "Data=Dataframe.as_matrix()"
   ]
  },
  {
   "cell_type": "code",
   "execution_count": 3,
   "metadata": {},
   "outputs": [],
   "source": [
    "Dataset=[]\n",
    "Labels=[]\n",
    "for data in Data:\n",
    "    Labels.append(data[1])\n",
    "    data=data[2:len(data)-1]\n",
    "    Dataset.append(data)"
   ]
  },
  {
   "cell_type": "code",
   "execution_count": 4,
   "metadata": {},
   "outputs": [
    {
     "name": "stderr",
     "output_type": "stream",
     "text": [
      "c:\\users\\dwijraj\\appdata\\local\\programs\\python\\python36\\lib\\site-packages\\sklearn\\utils\\validation.py:444: DataConversionWarning: Data with input dtype object was converted to float64 by MinMaxScaler.\n",
      "  warnings.warn(msg, DataConversionWarning)\n"
     ]
    }
   ],
   "source": [
    "## Preprocessing\n",
    "from sklearn import preprocessing\n",
    "\n",
    "Data=np.array(Dataset)\n",
    "\n",
    "min_max_scaler = preprocessing.MinMaxScaler()\n",
    "Data_Normalized=min_max_scaler.fit_transform(Data)"
   ]
  },
  {
   "cell_type": "code",
   "execution_count": 18,
   "metadata": {},
   "outputs": [
    {
     "data": {
      "text/plain": [
       "array([[ 1.38702121,  0.42689533],\n",
       "       [ 0.46230825, -0.55694674],\n",
       "       [ 0.95462147, -0.10970115],\n",
       "       ...,\n",
       "       [ 0.22631131, -0.28794577],\n",
       "       [ 1.67783369,  0.33594595],\n",
       "       [-0.90506804, -0.10410875]])"
      ]
     },
     "execution_count": 18,
     "metadata": {},
     "output_type": "execute_result"
    }
   ],
   "source": [
    "from sklearn.decomposition import PCA\n",
    "pca = PCA(n_components=2)\n",
    "array=pca.fit_transform(Data_Normalized)\n",
    "\n",
    "array"
   ]
  },
  {
   "cell_type": "code",
   "execution_count": 20,
   "metadata": {},
   "outputs": [
    {
     "name": "stdout",
     "output_type": "stream",
     "text": [
      "569\n"
     ]
    },
    {
     "data": {
      "image/png": "[encoded data removed]",
      "text/plain": [
       "<matplotlib.figure.Figure at 0x2c191c3e7b8>"
      ]
     },
     "metadata": {},
     "output_type": "display_data"
    }
   ],
   "source": [
    "import matplotlib.pyplot as plt\n",
    "\n",
    "%matplotlib inline\n",
    "shape=Data_Normalized.shape\n",
    "print(shape[0])\n",
    "for i in range(569):\n",
    "    if(Labels[i]=='M'):\n",
    "        plt.plot(array[i][0],array[i][1],marker='x',color='r')\n",
    "    else:\n",
    "        plt.plot(array[i][0],array[i][1],marker='o',color='b')\n",
    "plt.xlabel('PC1')\n",
    "plt.ylabel('PC2')\n",
    "plt.show()\n"
   ]
  },
  {
   "cell_type": "code",
   "execution_count": null,
   "metadata": {},
   "outputs": [],
   "source": []
  }
 ],
 "metadata": {
  "kernelspec": {
   "display_name": "Python 3",
   "language": "python",
   "name": "python3"
  },
  "language_info": {
   "codemirror_mode": {
    "name": "ipython",
    "version": 3
   },
   "file_extension": ".py",
   "mimetype": "text/x-python",
   "name": "python",
   "nbconvert_exporter": "python",
   "pygments_lexer": "ipython3",
   "version": "3.6.1"
  }
 },
 "nbformat": 4,
 "nbformat_minor": 2
}
